{
 "cells": [
  {
   "cell_type": "code",
   "execution_count": 5,
   "metadata": {},
   "outputs": [],
   "source": [
    "import sqlite3\n",
    "def create_table():  \n",
    "    conn = sqlite3.connect(\"lite.db\")\n",
    "    cur = conn.cursor()\n",
    "    cur.execute(\"CREATE TABLE IF NOT EXISTS store (item TEXT, quantity INTEGER, price REAL)\")   \n",
    "    conn.commit()\n",
    "    conn.close()"
   ]
  },
  {
   "cell_type": "code",
   "execution_count": 6,
   "metadata": {},
   "outputs": [],
   "source": [
    "def insert(item, quantity, price):\n",
    "    conn = sqlite3.connect(\"lite.db\")\n",
    "    cur = conn.cursor()\n",
    "    cur.execute(\"INSERT INTO store VALUES (?,?,?)\", (item, quantity, price))\n",
    "    conn.commit()\n",
    "    conn.close()"
   ]
  },
  {
   "cell_type": "code",
   "execution_count": 7,
   "metadata": {},
   "outputs": [],
   "source": [
    "insert(\"water Glass\", 10, 12)"
   ]
  },
  {
   "cell_type": "code",
   "execution_count": 8,
   "metadata": {},
   "outputs": [],
   "source": [
    "insert(\"Coffee Cup\", 2, 3.8)"
   ]
  },
  {
   "cell_type": "code",
   "execution_count": 9,
   "metadata": {},
   "outputs": [],
   "source": [
    "def view():\n",
    "    conn = sqlite3.connect(\"lite.db\")\n",
    "    cur = conn.cursor()\n",
    "    cur.execute(\"SELECT * FROM store\")\n",
    "    rows = cur.fetchall()\n",
    "    conn.close()\n",
    "    return rows"
   ]
  },
  {
   "cell_type": "code",
   "execution_count": 10,
   "metadata": {},
   "outputs": [
    {
     "name": "stdout",
     "output_type": "stream",
     "text": [
      "[('Wine Glass', 8, 10.5), ('Wine Glass', 8, 10.5), ('water Glass', 10, 12.0), ('Coffee Cup', 2, 3.8)]\n"
     ]
    }
   ],
   "source": [
    "print(view())"
   ]
  },
  {
   "cell_type": "code",
   "execution_count": 12,
   "metadata": {},
   "outputs": [],
   "source": [
    "def delete(item):\n",
    "    conn = sqlite3.connect(\"lite.db\")\n",
    "    cur = conn.cursor()\n",
    "    cur.execute(\"DELETE FROM store WHERE item=?\", (item, ))\n",
    "    conn.commit()\n",
    "    conn.close()    "
   ]
  },
  {
   "cell_type": "code",
   "execution_count": 13,
   "metadata": {},
   "outputs": [],
   "source": [
    "delete(\"Wine Glass\")"
   ]
  },
  {
   "cell_type": "code",
   "execution_count": 14,
   "metadata": {},
   "outputs": [
    {
     "name": "stdout",
     "output_type": "stream",
     "text": [
      "[('water Glass', 10, 12.0), ('Coffee Cup', 2, 3.8)]\n"
     ]
    }
   ],
   "source": [
    "print(view())"
   ]
  },
  {
   "cell_type": "code",
   "execution_count": 15,
   "metadata": {},
   "outputs": [],
   "source": [
    "def update(quantity, price, item):\n",
    "    conn = sqlite3.connect(\"lite.db\")\n",
    "    cur = conn.cursor()\n",
    "    cur.execute(\"UPDATE store SET quantity=?, price=? WHERE item=?\",(quantity, price, item))\n",
    "    conn.commit()\n",
    "    conn.close()  "
   ]
  },
  {
   "cell_type": "code",
   "execution_count": 18,
   "metadata": {},
   "outputs": [],
   "source": [
    "update(11,6,\"water Glass\")"
   ]
  },
  {
   "cell_type": "code",
   "execution_count": 19,
   "metadata": {},
   "outputs": [
    {
     "name": "stdout",
     "output_type": "stream",
     "text": [
      "[('water Glass', 11, 6.0), ('Coffee Cup', 2, 3.8)]\n"
     ]
    }
   ],
   "source": [
    "print(view())"
   ]
  },
  {
   "cell_type": "code",
   "execution_count": null,
   "metadata": {},
   "outputs": [],
   "source": []
  }
 ],
 "metadata": {
  "kernelspec": {
   "display_name": "Python 3",
   "language": "python",
   "name": "python3"
  },
  "language_info": {
   "codemirror_mode": {
    "name": "ipython",
    "version": 3
   },
   "file_extension": ".py",
   "mimetype": "text/x-python",
   "name": "python",
   "nbconvert_exporter": "python",
   "pygments_lexer": "ipython3",
   "version": "3.6.5"
  }
 },
 "nbformat": 4,
 "nbformat_minor": 2
}
